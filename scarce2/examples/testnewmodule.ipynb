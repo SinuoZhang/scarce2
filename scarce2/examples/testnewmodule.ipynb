{
 "cells": [
  {
   "cell_type": "code",
   "execution_count": 2,
   "id": "d409bf63-47b0-47af-b1eb-c0c8c874c50b",
   "metadata": {},
   "outputs": [],
   "source": [
    "from scarce2 import silicon"
   ]
  },
  {
   "cell_type": "code",
   "execution_count": 3,
   "id": "07550ac4-1373-43c0-b55a-6c39e5060a36",
   "metadata": {},
   "outputs": [
    {
     "name": "stdout",
     "output_type": "stream",
     "text": [
      "22905075.30614958\n"
     ]
    }
   ],
   "source": [
    "print(silicon.get_thermal_velocity(temperature=300,is_electron=True))"
   ]
  },
  {
   "cell_type": "code",
   "execution_count": 4,
   "id": "813d9f19-6ec9-4c0e-b03a-6b75e5743b00",
   "metadata": {},
   "outputs": [
    {
     "name": "stdout",
     "output_type": "stream",
     "text": [
      "18798567.044034675\n"
     ]
    }
   ],
   "source": [
    "print(silicon.get_thermal_velocity(temperature=300,is_electron=False))"
   ]
  },
  {
   "cell_type": "code",
   "execution_count": 6,
   "id": "4a42f6e8-c612-436c-8b68-42522c90e474",
   "metadata": {},
   "outputs": [
    {
     "name": "stdout",
     "output_type": "stream",
     "text": [
      "255.1254725836458\n"
     ]
    }
   ],
   "source": [
    "print(silicon.get_depletion_depth(V_bias=100, n_eff=2, temperature=300))"
   ]
  },
  {
   "cell_type": "code",
   "execution_count": null,
   "id": "94438ab8-5a81-46b5-97a3-aef2041204c8",
   "metadata": {},
   "outputs": [],
   "source": []
  }
 ],
 "metadata": {
  "kernelspec": {
   "display_name": "Python 3 (ipykernel)",
   "language": "python",
   "name": "python3"
  },
  "language_info": {
   "codemirror_mode": {
    "name": "ipython",
    "version": 3
   },
   "file_extension": ".py",
   "mimetype": "text/x-python",
   "name": "python",
   "nbconvert_exporter": "python",
   "pygments_lexer": "ipython3",
   "version": "3.13.2"
  }
 },
 "nbformat": 4,
 "nbformat_minor": 5
}
